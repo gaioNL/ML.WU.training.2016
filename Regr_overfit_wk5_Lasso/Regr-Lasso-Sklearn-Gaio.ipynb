{
 "cells": [
  {
   "cell_type": "code",
   "execution_count": 1,
   "metadata": {
    "collapsed": true
   },
   "outputs": [],
   "source": [
    "import pandas as pd\n",
    "import numpy as np"
   ]
  },
  {
   "cell_type": "markdown",
   "metadata": {},
   "source": [
    "Define the data dictionary"
   ]
  },
  {
   "cell_type": "code",
   "execution_count": 2,
   "metadata": {
    "collapsed": true
   },
   "outputs": [],
   "source": [
    "dtype_dict = {'bathrooms':float, 'waterfront':int, 'sqft_above':int, \n",
    "              'sqft_living15':float, 'grade':int, 'yr_renovated':int, 'price':float,\n",
    "              'bedrooms':float, 'zipcode':str, 'long':float, 'sqft_lot15':float, 'sqft_living':float,\n",
    "              'floors':float, 'condition':int, 'lat':float, 'date':str, 'sqft_basement':int, 'yr_built':int, 'id':str, \n",
    "              'sqft_lot':int, 'view':int}"
   ]
  },
  {
   "cell_type": "markdown",
   "metadata": {},
   "source": [
    "import the data"
   ]
  },
  {
   "cell_type": "code",
   "execution_count": 3,
   "metadata": {
    "collapsed": true
   },
   "outputs": [],
   "source": [
    "sales = pd.read_csv('kc_house_data.csv', dtype=dtype_dict)"
   ]
  },
  {
   "cell_type": "markdown",
   "metadata": {},
   "source": [
    "Create new features:\n",
    "* Squaring bedrooms will increase the separation between not many bedrooms (e.g. 1) \n",
    "and lots of bedrooms (e.g. 4) since 1^2 = 1 but 4^2 = 16. \n",
    "Consequently this variable will mostly affect houses with many bedrooms.\n",
    "* Taking square root of sqft_living will decrease the separation between big house and small house. \n",
    "The owner may not be exactly twice as happy for getting a house that is twice as big."
   ]
  },
  {
   "cell_type": "code",
   "execution_count": 4,
   "metadata": {
    "collapsed": true
   },
   "outputs": [],
   "source": [
    "from math import log, sqrt\n",
    "sales['sqft_living_sqrt'] = sales['sqft_living'].apply(sqrt)\n",
    "sales['sqft_lot_sqrt'] = sales['sqft_lot'].apply(sqrt)\n",
    "sales['bedrooms_square'] = sales['bedrooms']*sales['bedrooms']\n",
    "sales['floors_square'] = sales['floors']*sales['floors']"
   ]
  },
  {
   "cell_type": "markdown",
   "metadata": {},
   "source": [
    "Using the entire house dataset, learn regression weights using an L1 penalty of 5e2. \n",
    "Make sure to add \"normalize=True\" when creating the Lasso object. "
   ]
  },
  {
   "cell_type": "code",
   "execution_count": 5,
   "metadata": {
    "collapsed": false
   },
   "outputs": [
    {
     "data": {
      "text/plain": [
       "Lasso(alpha=500.0, copy_X=True, fit_intercept=True, max_iter=1000,\n",
       "   normalize=True, positive=False, precompute=False, random_state=None,\n",
       "   selection='cyclic', tol=0.0001, warm_start=False)"
      ]
     },
     "execution_count": 5,
     "metadata": {},
     "output_type": "execute_result"
    }
   ],
   "source": [
    "from sklearn import linear_model  # using scikit-learn\n",
    "\n",
    "all_features = ['bedrooms', 'bedrooms_square',\n",
    "            'bathrooms',\n",
    "            'sqft_living', 'sqft_living_sqrt',\n",
    "            'sqft_lot', 'sqft_lot_sqrt',\n",
    "            'floors', 'floors_square',\n",
    "            'waterfront', 'view', 'condition', 'grade',\n",
    "            'sqft_above',\n",
    "            'sqft_basement',\n",
    "            'yr_built', 'yr_renovated']\n",
    "\n",
    "model_all = linear_model.Lasso(alpha=5e2, normalize=True) # set parameters\n",
    "model_all.fit(sales[all_features], sales['price']) # learn weights"
   ]
  },
  {
   "cell_type": "code",
   "execution_count": 8,
   "metadata": {
    "collapsed": true
   },
   "outputs": [],
   "source": [
    "def print_coefficients(model):    \n",
    "    # Get the degree of the polynomial\n",
    "    deg = len(model.coef_)-1\n",
    "\n",
    "    # Get learned parameters as a list\n",
    "    w = list(model.coef_)\n",
    "\n",
    "    # Numpy has a nifty function to print out polynomials in a pretty way\n",
    "    # (We'll use it, but it needs the parameters in the reverse order)\n",
    "    print 'Learned polynomial for degree ' + str(deg) + ':'\n",
    "    w.reverse()\n",
    "    print np.poly1d(w)"
   ]
  },
  {
   "cell_type": "markdown",
   "metadata": {},
   "source": [
    "Check which coefficients are non-0"
   ]
  },
  {
   "cell_type": "code",
   "execution_count": 9,
   "metadata": {
    "collapsed": false
   },
   "outputs": [
    {
     "name": "stdout",
     "output_type": "stream",
     "text": [
      "Learned polynomial for degree 16:\n",
      "           12             10         3\n",
      "6.175e+04 x  + 2.475e+04 x  + 134.4 x\n"
     ]
    }
   ],
   "source": [
    "print_coefficients(model_all)"
   ]
  },
  {
   "cell_type": "markdown",
   "metadata": {},
   "source": [
    "Search for a good L1 penalty using a validation set."
   ]
  },
  {
   "cell_type": "code",
   "execution_count": 10,
   "metadata": {
    "collapsed": true
   },
   "outputs": [],
   "source": [
    "testing = pd.read_csv('wk3_kc_house_test_data.csv', dtype=dtype_dict)\n",
    "training = pd.read_csv('wk3_kc_house_train_data.csv', dtype=dtype_dict)\n",
    "validation = pd.read_csv('wk3_kc_house_valid_data.csv', dtype=dtype_dict)"
   ]
  },
  {
   "cell_type": "code",
   "execution_count": 11,
   "metadata": {
    "collapsed": true
   },
   "outputs": [],
   "source": [
    "testing['sqft_living_sqrt'] = testing['sqft_living'].apply(sqrt)\n",
    "testing['sqft_lot_sqrt'] = testing['sqft_lot'].apply(sqrt)\n",
    "testing['bedrooms_square'] = testing['bedrooms']*testing['bedrooms']\n",
    "testing['floors_square'] = testing['floors']*testing['floors']\n",
    "\n",
    "training['sqft_living_sqrt'] = training['sqft_living'].apply(sqrt)\n",
    "training['sqft_lot_sqrt'] = training['sqft_lot'].apply(sqrt)\n",
    "training['bedrooms_square'] = training['bedrooms']*training['bedrooms']\n",
    "training['floors_square'] = training['floors']*training['floors']\n",
    "\n",
    "validation['sqft_living_sqrt'] = validation['sqft_living'].apply(sqrt)\n",
    "validation['sqft_lot_sqrt'] = validation['sqft_lot'].apply(sqrt)\n",
    "validation['bedrooms_square'] = validation['bedrooms']*validation['bedrooms']\n",
    "validation['floors_square'] = validation['floors']*validation['floors']"
   ]
  },
  {
   "cell_type": "markdown",
   "metadata": {},
   "source": [
    "Now for each l1_penalty in [10^1, 10^1.5, 10^2, 10^2.5, ..., 10^7]:\n",
    "* Learn a model on TRAINING data using the specified l1_penalty. \n",
    "Make sure to specify normalize=True in the constructor:\n",
    "* Compute the RSS on VALIDATION for the current model (print or save the RSS)\n",
    "* Report which L1 penalty produced the lower RSS on VALIDATION."
   ]
  },
  {
   "cell_type": "code",
   "execution_count": 12,
   "metadata": {
    "collapsed": false
   },
   "outputs": [
    {
     "name": "stdout",
     "output_type": "stream",
     "text": [
      "l1_penalty: 10.000000, RSS $398213327300134.125000\n",
      "\n",
      "l1_penalty: 31.622777, RSS $399041900253348.187500\n",
      "\n",
      "l1_penalty: 100.000000, RSS $429791604072558.437500\n",
      "\n",
      "l1_penalty: 316.227766, RSS $463739831045119.687500\n",
      "\n",
      "l1_penalty: 1000.000000, RSS $645898733633803.500000\n",
      "\n",
      "l1_penalty: 3162.277660, RSS $1222506859427156.750000\n",
      "\n",
      "l1_penalty: 10000.000000, RSS $1222506859427156.750000\n",
      "\n",
      "l1_penalty: 31622.776602, RSS $1222506859427156.750000\n",
      "\n",
      "l1_penalty: 100000.000000, RSS $1222506859427156.750000\n",
      "\n",
      "l1_penalty: 316227.766017, RSS $1222506859427156.750000\n",
      "\n",
      "l1_penalty: 1000000.000000, RSS $1222506859427156.750000\n",
      "\n",
      "l1_penalty: 3162277.660168, RSS $1222506859427156.750000\n",
      "\n",
      "l1_penalty: 10000000.000000, RSS $1222506859427156.750000\n",
      "\n",
      "Best l1_penalty: 10.000000, RSS $398213327300134.125000\n",
      "\n"
     ]
    }
   ],
   "source": [
    "best_RSS = 0\n",
    "best_l1_penalty = 0\n",
    "count = 0\n",
    "for l1_penalty in np.logspace(1, 7, num=13):\n",
    "    model = linear_model.Lasso(alpha=l1_penalty, normalize=True)\n",
    "    model.fit(training[all_features], training['price']) # learn weights\n",
    "    #compute RSS\n",
    "    predictions = model.predict(validation[all_features])\n",
    "    residuals = validation['price'] - predictions\n",
    "    redsiduals_squared = residuals **2\n",
    "    RSS = redsiduals_squared.sum()\n",
    "    if count == 0:\n",
    "        best_l1_penalty=l1_penalty\n",
    "        best_RSS=RSS \n",
    "        best_model= model\n",
    "        count+=1\n",
    "    else:\n",
    "        if RSS < best_RSS :\n",
    "            best_l1_penalty=l1_penalty\n",
    "            best_RSS=RSS  \n",
    "            best_model= model\n",
    "    #print model results\n",
    "    print(\"l1_penalty: %.6f, RSS $%.6f\\n\" % (l1_penalty , RSS ))\n",
    "print (\"Best l1_penalty: %.6f, RSS $%.6f\\n\" % (best_l1_penalty , best_RSS))"
   ]
  },
  {
   "cell_type": "markdown",
   "metadata": {},
   "source": [
    "Limit the number of nonzero weights\n",
    "What if we absolutely wanted to limit ourselves to, say, 7 features? \n",
    "This may be important if we want to derive \"a rule of thumb\" --- an interpretable model that \n",
    "has only a few features in them.\n",
    "In this section, we are going to implement a simple, two phase procedure to achive this goal:\n",
    "1. Explore a large range of l1_penalty values to find a narrow region of l1_penalty \n",
    "values where models are likely to have the desired number of non-zero weights.\n",
    "2. Further explore the narrow region you found to find a good value for l1_penalty that achieves\n",
    "the desired sparsity. Here, we will again use a validation set to choose the best value for l1_penalty."
   ]
  },
  {
   "cell_type": "code",
   "execution_count": 13,
   "metadata": {
    "collapsed": true
   },
   "outputs": [],
   "source": [
    "max_nonzeros = 7"
   ]
  },
  {
   "cell_type": "markdown",
   "metadata": {},
   "source": [
    "For l1_penalty in np.logspace(1, 4, num=20):\n",
    "\n",
    "* it a regression model with a given l1_penalty on TRAIN data. \n",
    "Add \"alpha=l1_penalty\" and \"normalize=True\" to the parameter list.\n",
    "* Extract the weights of the model and count the number of nonzeros. \n",
    "Take account of the intercept adding 1 whenever the intercept is nonzero. Save the number of nonzeros to a list."
   ]
  },
  {
   "cell_type": "code",
   "execution_count": 21,
   "metadata": {
    "collapsed": false
   },
   "outputs": [
    {
     "name": "stdout",
     "output_type": "stream",
     "text": [
      "l1_penalty: 10.000000, Non Zeros 15.000000\n",
      "\n",
      "Max l1_penalty: 10.000000, Non Zeros 15.000000\n",
      "\n",
      "l1_penalty: 14.384499, Non Zeros 15.000000\n",
      "\n",
      "Max l1_penalty: 14.384499, Non Zeros 15.000000\n",
      "\n",
      "l1_penalty: 20.691381, Non Zeros 15.000000\n",
      "\n",
      "Max l1_penalty: 20.691381, Non Zeros 15.000000\n",
      "\n",
      "l1_penalty: 29.763514, Non Zeros 15.000000\n",
      "\n",
      "Max l1_penalty: 29.763514, Non Zeros 15.000000\n",
      "\n",
      "l1_penalty: 42.813324, Non Zeros 13.000000\n",
      "\n",
      "Max l1_penalty: 42.813324, Non Zeros 13.000000\n",
      "\n",
      "l1_penalty: 61.584821, Non Zeros 12.000000\n",
      "\n",
      "Max l1_penalty: 61.584821, Non Zeros 12.000000\n",
      "\n",
      "l1_penalty: 88.586679, Non Zeros 11.000000\n",
      "\n",
      "Max l1_penalty: 88.586679, Non Zeros 11.000000\n",
      "\n",
      "l1_penalty: 127.427499, Non Zeros 10.000000\n",
      "\n",
      "Max l1_penalty: 127.427499, Non Zeros 10.000000\n",
      "\n",
      "l1_penalty: 183.298071, Non Zeros 7.000000\n",
      "\n",
      "l1_penalty: 263.665090, Non Zeros 6.000000\n",
      "\n",
      "Min l1_penalty: 263.665090, Non Zeros 6.000000\n",
      "\n",
      "l1_penalty: 379.269019, Non Zeros 6.000000\n",
      "\n",
      "Min l1_penalty: 263.665090, Non Zeros 6.000000\n",
      "\n",
      "l1_penalty: 545.559478, Non Zeros 6.000000\n",
      "\n",
      "Min l1_penalty: 263.665090, Non Zeros 6.000000\n",
      "\n",
      "l1_penalty: 784.759970, Non Zeros 5.000000\n",
      "\n",
      "Min l1_penalty: 263.665090, Non Zeros 5.000000\n",
      "\n",
      "l1_penalty: 1128.837892, Non Zeros 3.000000\n",
      "\n",
      "Min l1_penalty: 263.665090, Non Zeros 3.000000\n",
      "\n",
      "l1_penalty: 1623.776739, Non Zeros 3.000000\n",
      "\n",
      "Min l1_penalty: 263.665090, Non Zeros 3.000000\n",
      "\n",
      "l1_penalty: 2335.721469, Non Zeros 2.000000\n",
      "\n",
      "Min l1_penalty: 263.665090, Non Zeros 2.000000\n",
      "\n",
      "l1_penalty: 3359.818286, Non Zeros 1.000000\n",
      "\n",
      "Min l1_penalty: 263.665090, Non Zeros 1.000000\n",
      "\n",
      "l1_penalty: 4832.930239, Non Zeros 1.000000\n",
      "\n",
      "Min l1_penalty: 263.665090, Non Zeros 1.000000\n",
      "\n",
      "l1_penalty: 6951.927962, Non Zeros 1.000000\n",
      "\n",
      "Min l1_penalty: 263.665090, Non Zeros 1.000000\n",
      "\n",
      "l1_penalty: 10000.000000, Non Zeros 1.000000\n",
      "\n",
      "Min l1_penalty: 263.665090, Non Zeros 1.000000\n",
      "\n",
      "Min l1_penalty: 263.665090, Non Zeros 6.000000\n",
      "Max l1_penalty 127.427499, Non Zeros 10.000000\n",
      "\n"
     ]
    }
   ],
   "source": [
    "l1_penalty_min = 0\n",
    "l1_penalty_max = 0\n",
    "count_max=0\n",
    "count_min=0\n",
    "for l1_penalty in np.logspace(1, 4, num=20):\n",
    "    #learn the weights on training\n",
    "    model_all = linear_model.Lasso(alpha=l1_penalty, normalize=True)\n",
    "    model_all.fit(training[all_features], training['price']) # learn weights\n",
    "    non_zeros = np.count_nonzero(model_all.coef_) + np.count_nonzero(model_all.intercept_)\n",
    "    print(\"l1_penalty: %.6f, Non Zeros %.6f\\n\" % (l1_penalty , non_zeros ))\n",
    "    if non_zeros > max_nonzeros:\n",
    "        if count_max == 0 :\n",
    "            l1_penalty_max = l1_penalty\n",
    "            max_model = model_all\n",
    "            count_max+=1\n",
    "        elif l1_penalty > l1_penalty_max:\n",
    "            l1_penalty_max = l1_penalty\n",
    "            max_model = model_all\n",
    "        print(\"Max l1_penalty: %.6f, Non Zeros %.6f\\n\"% ( l1_penalty_max, non_zeros))\n",
    "    if non_zeros < max_nonzeros:\n",
    "        if count_min == 0 :\n",
    "            l1_penalty_min = l1_penalty\n",
    "            min_model =model_all\n",
    "            count_min+=1\n",
    "        elif l1_penalty < l1_penalty_min:\n",
    "            l1_penalty_min = l1_penalty\n",
    "            min_model =model_all\n",
    "        print(\"Min l1_penalty: %.6f, Non Zeros %.6f\\n\"% ( l1_penalty_min, non_zeros))\n",
    "print(\"Min l1_penalty: %.6f, Non Zeros %.6f\\nMax l1_penalty %.6f, Non Zeros %.6f\\n\" % \n",
    "      ( l1_penalty_min, np.count_nonzero(min_model.coef_) + np.count_nonzero(min_model.intercept_),\n",
    "       l1_penalty_max, np.count_nonzero(max_model.coef_) + np.count_nonzero(max_model.intercept_)))"
   ]
  },
  {
   "cell_type": "markdown",
   "metadata": {},
   "source": [
    "We now explore the region of l1_penalty we found: between ‘l1_penalty_min’ and ‘l1_penalty_max’. \n",
    "We look for the L1 penalty in this range that produces exactly the right number of nonzeros \n",
    "and also minimizes RSS on the VALIDATION set.\n",
    "\n",
    "For l1_penalty in np.linspace(l1_penalty_min,l1_penalty_max,20):\n",
    "\n",
    "1. Fit a regression model with a given l1_penalty on TRAIN data. \n",
    "As before, use \"alpha=l1_penalty\" and \"normalize=True\".\n",
    "2. Measure the RSS of the learned model on the VALIDATION set\n",
    "Find the model that the lowest RSS on the VALIDATION set and has sparsity equal to ‘max_nonzeros’. \n"
   ]
  },
  {
   "cell_type": "code",
   "execution_count": 23,
   "metadata": {
    "collapsed": false
   },
   "outputs": [
    {
     "name": "stdout",
     "output_type": "stream",
     "text": [
      "l1_penalty: 263.665090, Non Zeros 6.000000\n",
      "\n",
      "l1_penalty: 256.494690, Non Zeros 6.000000\n",
      "\n",
      "l1_penalty: 249.324291, Non Zeros 6.000000\n",
      "\n",
      "l1_penalty: 242.153891, Non Zeros 6.000000\n",
      "\n",
      "l1_penalty: 234.983492, Non Zeros 6.000000\n",
      "\n",
      "l1_penalty: 227.813092, Non Zeros 6.000000\n",
      "\n",
      "l1_penalty: 220.642693, Non Zeros 6.000000\n",
      "\n",
      "l1_penalty: 213.472293, Non Zeros 6.000000\n",
      "\n",
      "l1_penalty: 206.301894, Non Zeros 6.000000\n",
      "\n",
      "l1_penalty: 199.131494, Non Zeros 7.000000\n",
      "\n",
      "l1_penalty: 199.131494, RSS $445230739842614.062500\n",
      "\n",
      "l1_penalty: 191.961094, Non Zeros 7.000000\n",
      "\n",
      "l1_penalty: 191.961094, RSS $444239780526140.750000\n",
      "\n",
      "l1_penalty: 184.790695, Non Zeros 7.000000\n",
      "\n",
      "l1_penalty: 184.790695, RSS $443296716874312.812500\n",
      "\n",
      "l1_penalty: 177.620295, Non Zeros 7.000000\n",
      "\n",
      "l1_penalty: 177.620295, RSS $442406413188665.562500\n",
      "\n",
      "l1_penalty: 170.449896, Non Zeros 7.000000\n",
      "\n",
      "l1_penalty: 170.449896, RSS $441566698090139.000000\n",
      "\n",
      "l1_penalty: 163.279496, Non Zeros 7.000000\n",
      "\n",
      "l1_penalty: 163.279496, RSS $440777489641605.250000\n",
      "\n",
      "l1_penalty: 156.109097, Non Zeros 7.000000\n",
      "\n",
      "l1_penalty: 156.109097, RSS $440037365263316.500000\n",
      "\n",
      "l1_penalty: 148.938697, Non Zeros 8.000000\n",
      "\n",
      "l1_penalty: 141.768298, Non Zeros 8.000000\n",
      "\n",
      "l1_penalty: 134.597898, Non Zeros 10.000000\n",
      "\n",
      "l1_penalty: 127.427499, Non Zeros 10.000000\n",
      "\n",
      "Best l1_penalty: 156.109097, RSS $440037365263316.500000\n",
      "\n"
     ]
    }
   ],
   "source": [
    "best_l1_penalty=0\n",
    "best_RSS=0\n",
    "count=0\n",
    "predictions = 0\n",
    "for l1_penalty in np.linspace(l1_penalty_min,l1_penalty_max,20):\n",
    "    #learn the weights on training\n",
    "    model_all = linear_model.Lasso(alpha=l1_penalty, normalize=True)\n",
    "    model_all.fit(training[all_features], training['price']) # learn weights\n",
    "    non_zeros = np.count_nonzero(model_all.coef_) + np.count_nonzero(model_all.intercept_)\n",
    "    print(\"l1_penalty: %.6f, Non Zeros %.6f\\n\" % (l1_penalty , non_zeros ))\n",
    "    if non_zeros == max_nonzeros:\n",
    "        #compute the RSS on validation set    \n",
    "        predictions = model_all.predict(validation[all_features])\n",
    "        residuals = validation['price']-predictions\n",
    "        residuals_squared = residuals**2\n",
    "        RSS = residuals_squared.sum()\n",
    "        if count == 0:\n",
    "            best_l1_penalty=l1_penalty\n",
    "            best_RSS=RSS \n",
    "            best_model= model_all\n",
    "            count+=1\n",
    "        else:\n",
    "            if RSS < best_RSS :\n",
    "                best_l1_penalty=l1_penalty\n",
    "                best_RSS=RSS  \n",
    "                best_model= model_all\n",
    "        #print model results\n",
    "        print(\"l1_penalty: %.6f, RSS $%.6f\\n\" % (l1_penalty , RSS ))\n",
    "print (\"Best l1_penalty: %.6f, RSS $%.6f\\n\" % (best_l1_penalty , best_RSS))"
   ]
  },
  {
   "cell_type": "code",
   "execution_count": null,
   "metadata": {
    "collapsed": true
   },
   "outputs": [],
   "source": []
  }
 ],
 "metadata": {
  "kernelspec": {
   "display_name": "Python 2",
   "language": "python",
   "name": "python2"
  },
  "language_info": {
   "codemirror_mode": {
    "name": "ipython",
    "version": 2
   },
   "file_extension": ".py",
   "mimetype": "text/x-python",
   "name": "python",
   "nbconvert_exporter": "python",
   "pygments_lexer": "ipython2",
   "version": "2.7.13"
  }
 },
 "nbformat": 4,
 "nbformat_minor": 0
}
