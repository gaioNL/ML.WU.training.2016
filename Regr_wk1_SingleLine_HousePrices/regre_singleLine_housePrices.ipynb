{
 "cells": [
  {
   "cell_type": "code",
   "execution_count": 1,
   "metadata": {
    "collapsed": false
   },
   "outputs": [
    {
     "data": {
      "text/plain": [
       "'\\n@author: Gaio\\n@summary: Linear Regression - Predicting House Prices\\n'"
      ]
     },
     "execution_count": 1,
     "metadata": {},
     "output_type": "execute_result"
    }
   ],
   "source": [
    "'''\n",
    "@author: Gaio\n",
    "@summary: Linear Regression - Predicting House Prices\n",
    "'''"
   ]
  },
  {
   "cell_type": "code",
   "execution_count": 3,
   "metadata": {
    "collapsed": true
   },
   "outputs": [],
   "source": [
    "#Start Graphlab create\n",
    "import graphlab"
   ]
  },
  {
   "cell_type": "code",
   "execution_count": 4,
   "metadata": {
    "collapsed": false
   },
   "outputs": [
    {
     "name": "stdout",
     "output_type": "stream",
     "text": [
      "This non-commercial license of GraphLab Create for academic use is assigned to claudio.gaiaschi@gmail.com and will expire on January 04, 2018.\n"
     ]
    },
    {
     "name": "stderr",
     "output_type": "stream",
     "text": [
      "[INFO] graphlab.cython.cy_server: GraphLab Create v2.1 started. Logging: /tmp/graphlab_server_1486959686.log\n"
     ]
    }
   ],
   "source": [
    "sales = graphlab.SFrame('kc_house_data.gl/')"
   ]
  },
  {
   "cell_type": "code",
   "execution_count": 5,
   "metadata": {
    "collapsed": true
   },
   "outputs": [],
   "source": [
    "train_data,test_data = sales.random_split(.8,seed=0)"
   ]
  },
  {
   "cell_type": "code",
   "execution_count": 6,
   "metadata": {
    "collapsed": false
   },
   "outputs": [
    {
     "name": "stdout",
     "output_type": "stream",
     "text": [
      "Canvas is accessible via web browser at the URL: http://localhost:40845/index.html\n",
      "Opening Canvas in default web browser.\n"
     ]
    }
   ],
   "source": [
    "sales.show()"
   ]
  },
  {
   "cell_type": "code",
   "execution_count": 7,
   "metadata": {
    "collapsed": true
   },
   "outputs": [],
   "source": [
    "graphlab.canvas.set_target('ipynb')"
   ]
  },
  {
   "cell_type": "code",
   "execution_count": 9,
   "metadata": {
    "collapsed": true
   },
   "outputs": [],
   "source": [
    "def simple_linear_regression(input_feature, output):\n",
    "    # compute the sum of input_feature and output\n",
    "    num_inputs = input_feature.size()\n",
    "    sum_input_feature = input_feature.sum()    \n",
    "    sum_output = output.sum()    \n",
    "    # compute the product of the output and the input_feature and its sum\n",
    "    prod_I_O = input_feature * output\n",
    "    sum_prodIO = prod_I_O.sum()        \n",
    "    # compute the squared value of the input_feature and its sum\n",
    "    sqrd_I = input_feature**2\n",
    "    sum_sqrd_I = sqrd_I.sum()   \n",
    "    \n",
    "    #numerator = (sum of X*Y) - (1/N)*((sum of X) * (sum of Y))\n",
    "    numerator = sum_prodIO - (1/num_inputs) * (input_feature.sum() *output.sum())\n",
    "    #denominator = (sum of X^2) - (1/N)*((sum of X) * (sum of X)) \n",
    "    denominator = sqrd_I - (1/num_inputs) * (input_feature.sum() *input_feature.sum())\n",
    "    # slope\n",
    "    slope = numerator/denominator \n",
    "    #intercept = (mean of Y) - slope * (mean of X)\n",
    "    intercept = output.mean() - slope * input_feature.mean()\n",
    "    \n",
    "    return(intercept, slope)"
   ]
  },
  {
   "cell_type": "code",
   "execution_count": 10,
   "metadata": {
    "collapsed": true
   },
   "outputs": [],
   "source": [
    "test_feature = graphlab.SArray(range(5))"
   ]
  },
  {
   "cell_type": "code",
   "execution_count": 11,
   "metadata": {
    "collapsed": true
   },
   "outputs": [],
   "source": [
    "test_output = graphlab.SArray(1 + 1*test_feature)"
   ]
  },
  {
   "cell_type": "code",
   "execution_count": 12,
   "metadata": {
    "collapsed": true
   },
   "outputs": [],
   "source": [
    "(test_intercept, test_slope) =  simple_linear_regression(test_feature, test_output)"
   ]
  },
  {
   "cell_type": "code",
   "execution_count": 13,
   "metadata": {
    "collapsed": false
   },
   "outputs": [
    {
     "name": "stdout",
     "output_type": "stream",
     "text": [
      "Intercept: [-inf, -77.0, -17.0, -5.888888888888889, -2.0]\n"
     ]
    }
   ],
   "source": [
    "print \"Intercept: \" + str(test_intercept)"
   ]
  },
  {
   "cell_type": "code",
   "execution_count": 14,
   "metadata": {
    "collapsed": false
   },
   "outputs": [
    {
     "name": "stdout",
     "output_type": "stream",
     "text": [
      "Slope: [inf, 40.0, 10.0, 4.444444444444445, 2.5]\n"
     ]
    }
   ],
   "source": [
    "print \"Slope: \" + str(test_slope)"
   ]
  },
  {
   "cell_type": "code",
   "execution_count": 16,
   "metadata": {
    "collapsed": true
   },
   "outputs": [],
   "source": [
    "def simple_linear_regression(input_feature, output):\n",
    "    # compute the sum of input_feature and output\n",
    "    num_inputs = input_feature.size()\n",
    "    sum_input_feature = input_feature.sum()    \n",
    "    sum_output = output.sum()    \n",
    "    # compute the product of the output and the input_feature and its sum\n",
    "    prod_I_O = input_feature * output\n",
    "    sum_prodIO = prod_I_O.sum()        \n",
    "    # compute the squared value of the input_feature and its sum\n",
    "    sqrd_I = input_feature**2\n",
    "    sum_sqrd_I = sqrd_I.sum()   \n",
    "    \n",
    "    #numerator = (sum of X*Y) - (1/N)*((sum of X) * (sum of Y))\n",
    "    numerator = sum_prodIO - (1/num_inputs) * (sum_input_feature *sum_output)\n",
    "    print \"numerator:\", numerator \n",
    "    #denominator = (sum of X^2) - (1/N)*((sum of X) * (sum of X)) \n",
    "    denominator = sqrd_I - (1/num_inputs) * (sum_input_feature * sum_input_feature)\n",
    "    print \"denominator: \", denominator\n",
    "    # slope\n",
    "    slope = numerator/denominator \n",
    "    #intercept = (mean of Y) - slope * (mean of X)\n",
    "    intercept = output.mean() - slope * input_feature.mean()\n",
    "    \n",
    "    return(intercept, slope)"
   ]
  },
  {
   "cell_type": "code",
   "execution_count": 17,
   "metadata": {
    "collapsed": false
   },
   "outputs": [
    {
     "name": "stdout",
     "output_type": "stream",
     "text": [
      "numerator: 40\n",
      "denominator:  [0.0, 1.0, 4.0, 9.0, 16.0]\n",
      "Intercept: [-inf, -77.0, -17.0, -5.888888888888889, -2.0]\n",
      "Slope: [inf, 40.0, 10.0, 4.444444444444445, 2.5]\n"
     ]
    }
   ],
   "source": [
    "test_feature = graphlab.SArray(range(5))\n",
    "test_output = graphlab.SArray(1 + 1*test_feature)\n",
    "(test_intercept, test_slope) =  simple_linear_regression(test_feature, test_output)\n",
    "print \"Intercept: \" + str(test_intercept)\n",
    "print \"Slope: \" + str(test_slope)"
   ]
  },
  {
   "cell_type": "code",
   "execution_count": 18,
   "metadata": {
    "collapsed": true
   },
   "outputs": [],
   "source": [
    "def simple_linear_regression(input_feature, output):\n",
    "    # compute the sum of input_feature and output\n",
    "    num_inputs = input_feature.size()\n",
    "    sum_input_feature = input_feature.sum()    \n",
    "    sum_output = output.sum()    \n",
    "    # compute the product of the output and the input_feature and its sum\n",
    "    prod_I_O = input_feature * output\n",
    "    sum_prodIO = prod_I_O.sum()        \n",
    "    # compute the squared value of the input_feature and its sum\n",
    "    sqrd_I = input_feature**2\n",
    "    sum_sqrd_I = sqrd_I.sum()   \n",
    "    \n",
    "    #numerator = (sum of X*Y) - (1/N)*((sum of X) * (sum of Y))\n",
    "    numerator = sum_prodIO - (1/num_inputs) * (sum_input_feature *sum_output)\n",
    "    print \"numerator:\", numerator \n",
    "    #denominator = (sum of X^2) - (1/N)*((sum of X) * (sum of X)) \n",
    "    denominator = sum_sqrd_I - (1/num_inputs) * (sum_input_feature * sum_input_feature)\n",
    "    print \"denominator: \", denominator\n",
    "    # slope\n",
    "    slope = numerator/denominator \n",
    "    #intercept = (mean of Y) - slope * (mean of X)\n",
    "    intercept = output.mean() - slope * input_feature.mean()\n",
    "    \n",
    "    return(intercept, slope)"
   ]
  },
  {
   "cell_type": "code",
   "execution_count": 19,
   "metadata": {
    "collapsed": false
   },
   "outputs": [
    {
     "name": "stdout",
     "output_type": "stream",
     "text": [
      "numerator: 40\n",
      "denominator:  30.0\n",
      "Intercept: 0.333333333333\n",
      "Slope: 1.33333333333\n"
     ]
    }
   ],
   "source": [
    "test_feature = graphlab.SArray(range(5))\n",
    "test_output = graphlab.SArray(1 + 1*test_feature)\n",
    "(test_intercept, test_slope) =  simple_linear_regression(test_feature, test_output)\n",
    "print \"Intercept: \" + str(test_intercept)\n",
    "print \"Slope: \" + str(test_slope)"
   ]
  },
  {
   "cell_type": "code",
   "execution_count": 20,
   "metadata": {
    "collapsed": true
   },
   "outputs": [],
   "source": [
    "def simple_linear_regression(input_feature, output):\n",
    "    # compute the sum of input_feature and output\n",
    "    num_inputs = input_feature.size()\n",
    "    sum_input_feature = input_feature.sum()    \n",
    "    sum_output = output.sum()    \n",
    "    # compute the product of the output and the input_feature and its sum\n",
    "    prod_I_O = input_feature * output\n",
    "    sum_prodIO = prod_I_O.sum()        \n",
    "    # compute the squared value of the input_feature and its sum\n",
    "    sqrd_I = input_feature*input_feature\n",
    "    sum_sqrd_I = sqrd_I.sum()   \n",
    "    \n",
    "    #numerator = (sum of X*Y) - (1/N)*((sum of X) * (sum of Y))\n",
    "    numerator = sum_prodIO - (1/num_inputs) * (sum_input_feature *sum_output)\n",
    "    print \"numerator:\", numerator \n",
    "    #denominator = (sum of X^2) - (1/N)*((sum of X) * (sum of X)) \n",
    "    denominator = sum_sqrd_I - (1/num_inputs) * (sum_input_feature * sum_input_feature)\n",
    "    print \"denominator: \", denominator\n",
    "    # slope\n",
    "    slope = numerator/denominator \n",
    "    #intercept = (mean of Y) - slope * (mean of X)\n",
    "    intercept = output.mean() - slope * input_feature.mean()\n",
    "    \n",
    "    return(intercept, slope)"
   ]
  },
  {
   "cell_type": "code",
   "execution_count": 21,
   "metadata": {
    "collapsed": false
   },
   "outputs": [
    {
     "name": "stdout",
     "output_type": "stream",
     "text": [
      "numerator: 40\n",
      "denominator:  30\n",
      "Intercept: 1.0\n",
      "Slope: 1\n"
     ]
    }
   ],
   "source": [
    "test_feature = graphlab.SArray(range(5))\n",
    "test_output = graphlab.SArray(1 + 1*test_feature)\n",
    "(test_intercept, test_slope) =  simple_linear_regression(test_feature, test_output)\n",
    "input_feature = train_data['sqft_living']\n",
    "output = train_data['price']\n",
    "(squarfeet_intercept, squarfeet_slope) =  simple_linear_regression(input_feature, output)\n",
    "print \"Intercept: \" + str(squarfeet_intercept)\n",
    "print \"Slope: \" + str(squarfeet_slope)"
   ]
  },
  {
   "cell_type": "code",
   "execution_count": 22,
   "metadata": {
    "collapsed": false
   },
   "outputs": [
    {
     "name": "stdout",
     "output_type": "stream",
     "text": [
      "numerator: 2.36662568479e+13\n",
      "denominator:  89977452623.0\n"
     ]
    }
   ],
   "source": [
    "input_feature = train_data['sqft_living']\n",
    "output = train_data['price']\n",
    "(squarfeet_intercept, squarfeet_slope) =  simple_linear_regression(input_feature, output)"
   ]
  },
  {
   "cell_type": "code",
   "execution_count": 23,
   "metadata": {
    "collapsed": false
   },
   "outputs": [
    {
     "data": {
      "text/plain": [
       "-7731.685827502166"
      ]
     },
     "execution_count": 23,
     "metadata": {},
     "output_type": "execute_result"
    }
   ],
   "source": [
    "squarfeet_intercept"
   ]
  },
  {
   "cell_type": "code",
   "execution_count": 24,
   "metadata": {
    "collapsed": false
   },
   "outputs": [
    {
     "name": "stdout",
     "output_type": "stream",
     "text": [
      "numerator: 2.36662568479e+13\n",
      "denominator:  89977452623.0\n",
      "Intercept: -7731.6858275\n",
      "Slope: 263.024303956\n"
     ]
    }
   ],
   "source": [
    "input_feature = train_data['sqft_living']\n",
    "output = train_data['price']\n",
    "(squarfeet_intercept, squarfeet_slope) =  simple_linear_regression(input_feature, output)\n",
    "print \"Intercept: \" + str(squarfeet_intercept)\n",
    "print \"Slope: \" + str(squarfeet_slope)"
   ]
  },
  {
   "cell_type": "code",
   "execution_count": 25,
   "metadata": {
    "collapsed": true
   },
   "outputs": [],
   "source": [
    "def get_regression_predictions(input_feature, intercept, slope):\n",
    "    # y = mx + q\n",
    "    predicted_values = input_feature * slope + intercept\n",
    "    \n",
    "    return predicted_values"
   ]
  },
  {
   "cell_type": "code",
   "execution_count": 27,
   "metadata": {
    "collapsed": false
   },
   "outputs": [
    {
     "name": "stdout",
     "output_type": "stream",
     "text": [
      "The estimated price for a house with 2650 squarefeet is $689282.72\n"
     ]
    }
   ],
   "source": [
    "#use the function to predict house prices\n",
    "my_house_sqft = 2650\n",
    "estimated_price = get_regression_predictions(my_house_sqft, squarfeet_intercept, squarfeet_slope)\n",
    "print \"The estimated price for a house with %d squarefeet is $%.2f\" % (my_house_sqft, estimated_price)"
   ]
  },
  {
   "cell_type": "code",
   "execution_count": 28,
   "metadata": {
    "collapsed": true
   },
   "outputs": [],
   "source": [
    "#compute RSS\n",
    "def get_residual_sum_of_squares(input_feature, output, intercept, slope):\n",
    "    # predictions\n",
    "    fitted_line = input_feature * slope + intercept\n",
    "    # then compute the residuals , square them and add them up\n",
    "    residuals = fitted_line - output\n",
    "    sqrd_residuals = residuals * residuals\n",
    "    RSS = sqrd_residuals.sum()\n",
    "    return(RSS)"
   ]
  },
  {
   "cell_type": "code",
   "execution_count": 29,
   "metadata": {
    "collapsed": false
   },
   "outputs": [
    {
     "name": "stdout",
     "output_type": "stream",
     "text": [
      "0.0\n"
     ]
    }
   ],
   "source": [
    "print get_residual_sum_of_squares(test_feature, test_output, test_intercept, test_slope) # should be 0.0"
   ]
  },
  {
   "cell_type": "code",
   "execution_count": 30,
   "metadata": {
    "collapsed": false
   },
   "outputs": [
    {
     "name": "stdout",
     "output_type": "stream",
     "text": [
      "The RSS of predicting Prices based on Square Feet is : 1.2072119188e+15\n"
     ]
    }
   ],
   "source": [
    "rss_prices_on_sqft = get_residual_sum_of_squares(train_data['sqft_living'], train_data['price'], squarfeet_intercept, squarfeet_slope)\n",
    "print 'The RSS of predicting Prices based on Square Feet is : ' + str(rss_prices_on_sqft)"
   ]
  },
  {
   "cell_type": "code",
   "execution_count": 31,
   "metadata": {
    "collapsed": true
   },
   "outputs": [],
   "source": [
    "def inverse_regression_predictions(output, intercept, slope):\n",
    "    estimated_feature= (output - intercept)/slope\n",
    "    return estimated_feature"
   ]
  },
  {
   "cell_type": "code",
   "execution_count": 32,
   "metadata": {
    "collapsed": false
   },
   "outputs": [
    {
     "name": "stdout",
     "output_type": "stream",
     "text": [
      "The estimated squarefeet for a house worth $800000.00 is 3070\n"
     ]
    }
   ],
   "source": [
    "my_house_price = 800000\n",
    "estimated_squarefeet = inverse_regression_predictions(my_house_price, squarfeet_intercept, squarfeet_slope)\n",
    "print \"The estimated squarefeet for a house worth $%.2f is %d\" % (my_house_price, estimated_squarefeet)"
   ]
  },
  {
   "cell_type": "code",
   "execution_count": 33,
   "metadata": {
    "collapsed": false
   },
   "outputs": [
    {
     "name": "stdout",
     "output_type": "stream",
     "text": [
      "numerator: 33414715671.0\n",
      "denominator:  211637.0\n",
      "Intercept: 7388.31464205\n",
      "Slope: 157886.92748\n"
     ]
    }
   ],
   "source": [
    "input_feature_b = train_data['bedrooms']\n",
    "output = train_data['price']\n",
    "(squarfeet_intercept_b, squarfeet_slope_b) =  simple_linear_regression(input_feature_b, output)\n",
    "print \"Intercept: \" + str(squarfeet_intercept_b)\n",
    "print \"Slope: \" + str(squarfeet_slope_b)"
   ]
  },
  {
   "cell_type": "code",
   "execution_count": 34,
   "metadata": {
    "collapsed": false
   },
   "outputs": [
    {
     "name": "stdout",
     "output_type": "stream",
     "text": [
      "The RSS of predicting Prices based on Bedrooms is : 2.15635611736e+15\n"
     ]
    }
   ],
   "source": [
    "rss_prices_on_sqft = get_residual_sum_of_squares(train_data['bedrooms'], train_data['price'], squarfeet_intercept_b, squarfeet_slope_b)\n",
    "print 'The RSS of predicting Prices based on Bedrooms is : ' + str(rss_prices_on_sqft)"
   ]
  },
  {
   "cell_type": "code",
   "execution_count": 35,
   "metadata": {
    "collapsed": false
   },
   "outputs": [
    {
     "name": "stdout",
     "output_type": "stream",
     "text": [
      "The estimated price for a house with 2650 squarefeet is $689282.72\n"
     ]
    }
   ],
   "source": [
    "my_house_sqft = 2650\n",
    "estimated_price = get_regression_predictions(my_house_sqft, squarfeet_intercept, squarfeet_slope)\n",
    "print \"The estimated price for a house with %d squarefeet is $%.2f\" % (my_house_sqft, estimated_price)"
   ]
  },
  {
   "cell_type": "code",
   "execution_count": 36,
   "metadata": {
    "collapsed": false
   },
   "outputs": [
    {
     "name": "stdout",
     "output_type": "stream",
     "text": [
      "The estimated squarefeet for a house worth $800000.00 is 3070\n"
     ]
    }
   ],
   "source": [
    "my_house_price = 800000\n",
    "estimated_squarefeet = inverse_regression_predictions(my_house_price, squarfeet_intercept, squarfeet_slope)\n",
    "print \"The estimated squarefeet for a house worth $%.2f is %d\" % (my_house_price, estimated_squarefeet)\n",
    "#The estimated squarefeet for a house worth $800000.00 is 3070"
   ]
  },
  {
   "cell_type": "code",
   "execution_count": 37,
   "metadata": {
    "collapsed": true
   },
   "outputs": [],
   "source": [
    "\n",
    "def simple_linear_regression_x(input_feature, output):\n",
    "    Xi = input_feature\n",
    "    Yi = output\n",
    "    N = len(Xi)\n",
    "    # compute the mean of  input_feature and output\n",
    "    Ymean = Yi.mean()\n",
    "    Xmean = Xi.mean()\n",
    "    \n",
    "    # compute the product of the output and the input_feature and its mean\n",
    "    SumYiXi = (Yi * Xi).sum()\n",
    "    YiXiByN = (Yi.sum() * Xi.sum()) / N\n",
    "    \n",
    "    # compute the squared value of the input_feature and its mean\n",
    "    XiSq = (Xi * Xi).sum()\n",
    "    XiXiByN = (Xi.sum() * Xi.sum()) / N\n",
    "    \n",
    "    # use the formula for the slope\n",
    "    slope = (SumYiXi - YiXiByN) / (XiSq - XiXiByN)\n",
    "    \n",
    "    # use the formula for the intercept\n",
    "    intercept = Ymean - (slope * Xmean)\n",
    "    return (intercept, slope)"
   ]
  },
  {
   "cell_type": "code",
   "execution_count": 38,
   "metadata": {
    "collapsed": false
   },
   "outputs": [
    {
     "name": "stdout",
     "output_type": "stream",
     "text": [
      "Intercept: -47116.0765749\n",
      "Slope: 281.958838568\n"
     ]
    }
   ],
   "source": [
    "input_feature = train_data['sqft_living']\n",
    "output = train_data['price']\n",
    "(squarfeet_intercept, squarfeet_slope) =  simple_linear_regression_x(input_feature, output)\n",
    "print \"Intercept: \" + str(squarfeet_intercept)\n",
    "print \"Slope: \" + str(squarfeet_slope)"
   ]
  },
  {
   "cell_type": "code",
   "execution_count": 39,
   "metadata": {
    "collapsed": false
   },
   "outputs": [
    {
     "ename": "SyntaxError",
     "evalue": "invalid syntax (<ipython-input-39-b671c1ed170e>, line 1)",
     "output_type": "error",
     "traceback": [
      "\u001b[1;36m  File \u001b[1;32m\"<ipython-input-39-b671c1ed170e>\"\u001b[1;36m, line \u001b[1;32m1\u001b[0m\n\u001b[1;33m    Intercept: -7731.6858275\u001b[0m\n\u001b[1;37m             ^\u001b[0m\n\u001b[1;31mSyntaxError\u001b[0m\u001b[1;31m:\u001b[0m invalid syntax\n"
     ]
    }
   ],
   "source": [
    "Intercept: -7731.6858275\n",
    "Slope: 263.024303956\n"
   ]
  },
  {
   "cell_type": "code",
   "execution_count": 40,
   "metadata": {
    "collapsed": false
   },
   "outputs": [
    {
     "name": "stdout",
     "output_type": "stream",
     "text": [
      "Intercept: -47116.0765749\n",
      "Slope: 281.958838568\n"
     ]
    }
   ],
   "source": [
    "input_feature = train_data['sqft_living']\n",
    "output = train_data['price']\n",
    "(squarfeet_intercept, squarfeet_slope) =  simple_linear_regression_x(input_feature, output)\n",
    "print \"Intercept: \" + str(squarfeet_intercept)\n",
    "print \"Slope: \" + str(squarfeet_slope)"
   ]
  },
  {
   "cell_type": "code",
   "execution_count": 41,
   "metadata": {
    "collapsed": false
   },
   "outputs": [
    {
     "name": "stdout",
     "output_type": "stream",
     "text": [
      "The estimated price for a house with 2650 squarefeet is $700074.85\n"
     ]
    }
   ],
   "source": [
    "my_house_sqft = 2650\n",
    "estimated_price = get_regression_predictions(my_house_sqft, squarfeet_intercept, squarfeet_slope)\n",
    "print \"The estimated price for a house with %d squarefeet is $%.2f\" % (my_house_sqft, estimated_price)"
   ]
  },
  {
   "cell_type": "code",
   "execution_count": 42,
   "metadata": {
    "collapsed": false
   },
   "outputs": [
    {
     "name": "stdout",
     "output_type": "stream",
     "text": [
      "The estimated squarefeet for a house worth $800000.00 is 3004\n"
     ]
    }
   ],
   "source": [
    "my_house_price = 800000\n",
    "estimated_squarefeet = inverse_regression_predictions(my_house_price, squarfeet_intercept, squarfeet_slope)\n",
    "print \"The estimated squarefeet for a house worth $%.2f is %d\" % (my_house_price, estimated_squarefeet)"
   ]
  },
  {
   "cell_type": "code",
   "execution_count": null,
   "metadata": {
    "collapsed": true
   },
   "outputs": [],
   "source": []
  }
 ],
 "metadata": {
  "kernelspec": {
   "display_name": "Python 2",
   "language": "python",
   "name": "python2"
  },
  "language_info": {
   "codemirror_mode": {
    "name": "ipython",
    "version": 2
   },
   "file_extension": ".py",
   "mimetype": "text/x-python",
   "name": "python",
   "nbconvert_exporter": "python",
   "pygments_lexer": "ipython2",
   "version": "2.7.13"
  }
 },
 "nbformat": 4,
 "nbformat_minor": 0
}
